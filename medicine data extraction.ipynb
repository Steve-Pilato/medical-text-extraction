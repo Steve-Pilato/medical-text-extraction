{
 "cells": [
  {
   "cell_type": "markdown",
   "metadata": {},
   "source": [
    "### Med7 Model Example"
   ]
  },
  {
   "cell_type": "code",
   "execution_count": 1,
   "metadata": {},
   "outputs": [],
   "source": [
    "import spacy\n",
    "import pandas as pd\n",
    "med7 = spacy.load(\"en_core_med7_lg\")"
   ]
  },
  {
   "cell_type": "markdown",
   "metadata": {},
   "source": [
    "### Example Text"
   ]
  },
  {
   "cell_type": "code",
   "execution_count": 17,
   "metadata": {},
   "outputs": [
    {
     "data": {
      "text/plain": [
       "[{'DRUG': 'Magnesium hydroxide'},\n",
       " {'DOSAGE': '400mg/5ml'},\n",
       " {'FORM': 'suspension'},\n",
       " {'ROUTE': 'PO'},\n",
       " {'DOSAGE': '30ml'},\n",
       " {'FREQUENCY': 'bid'}]"
      ]
     },
     "execution_count": 17,
     "metadata": {},
     "output_type": "execute_result"
    }
   ],
   "source": [
    "text = 'A patient was prescribed Magnesium hydroxide 400mg/5ml suspension PO of total 30ml bid for the next 5 days.'\n",
    "doc = med7(text)\n",
    "[{ent.label_: ent.text} for ent in doc.ents]"
   ]
  },
  {
   "cell_type": "markdown",
   "metadata": {},
   "source": [
    "### Synthesized dataset"
   ]
  },
  {
   "cell_type": "code",
   "execution_count": 37,
   "metadata": {},
   "outputs": [
    {
     "data": {
      "text/html": [
       "<div>\n",
       "<style scoped>\n",
       "    .dataframe tbody tr th:only-of-type {\n",
       "        vertical-align: middle;\n",
       "    }\n",
       "\n",
       "    .dataframe tbody tr th {\n",
       "        vertical-align: top;\n",
       "    }\n",
       "\n",
       "    .dataframe thead th {\n",
       "        text-align: right;\n",
       "    }\n",
       "</style>\n",
       "<table border=\"1\" class=\"dataframe\">\n",
       "  <thead>\n",
       "    <tr style=\"text-align: right;\">\n",
       "      <th></th>\n",
       "      <th>Label</th>\n",
       "      <th>Text</th>\n",
       "    </tr>\n",
       "  </thead>\n",
       "  <tbody>\n",
       "    <tr>\n",
       "      <th>0</th>\n",
       "      <td>Metformin 500mg</td>\n",
       "      <td>Patient is advised to take Metformin 500mg onc...</td>\n",
       "    </tr>\n",
       "    <tr>\n",
       "      <th>1</th>\n",
       "      <td>Lisinopril 10mg</td>\n",
       "      <td>Lisinopril 10mg prescribed for hypertension; p...</td>\n",
       "    </tr>\n",
       "    <tr>\n",
       "      <th>2</th>\n",
       "      <td>Amoxicillin 250mg</td>\n",
       "      <td>Prescribed Amoxicillin 250mg three times a day...</td>\n",
       "    </tr>\n",
       "    <tr>\n",
       "      <th>3</th>\n",
       "      <td>Atorvastatin 20mg</td>\n",
       "      <td>Atorvastatin 20mg recommended for cholesterol ...</td>\n",
       "    </tr>\n",
       "    <tr>\n",
       "      <th>4</th>\n",
       "      <td>Albuterol 90mcg</td>\n",
       "      <td>Albuterol 90mcg inhaler, use as needed for ast...</td>\n",
       "    </tr>\n",
       "  </tbody>\n",
       "</table>\n",
       "</div>"
      ],
      "text/plain": [
       "               Label                                               Text\n",
       "0    Metformin 500mg  Patient is advised to take Metformin 500mg onc...\n",
       "1    Lisinopril 10mg  Lisinopril 10mg prescribed for hypertension; p...\n",
       "2  Amoxicillin 250mg  Prescribed Amoxicillin 250mg three times a day...\n",
       "3  Atorvastatin 20mg  Atorvastatin 20mg recommended for cholesterol ...\n",
       "4    Albuterol 90mcg  Albuterol 90mcg inhaler, use as needed for ast..."
      ]
     },
     "execution_count": 37,
     "metadata": {},
     "output_type": "execute_result"
    }
   ],
   "source": [
    "df = pd.read_csv(\"C:\\\\Users\\\\steve\\\\Downloads\\\\patient_notes.csv\")\n",
    "df.head()"
   ]
  },
  {
   "cell_type": "code",
   "execution_count": 59,
   "metadata": {},
   "outputs": [
    {
     "data": {
      "text/plain": [
       "'Patient is advised to take Metformin 500mg once daily to manage blood sugar levels.'"
      ]
     },
     "execution_count": 59,
     "metadata": {},
     "output_type": "execute_result"
    }
   ],
   "source": [
    "df['Text'][0]"
   ]
  },
  {
   "cell_type": "code",
   "execution_count": 47,
   "metadata": {},
   "outputs": [],
   "source": [
    "def extract_drug_dose(text:str) -> list:\n",
    "    \"\"\"\n",
    "    Function inputs text field into med 7 and extracts medication and dose\n",
    "\n",
    "    Params:\n",
    "    text: str unstructured text field containing medications perscribed to patient\n",
    "    \"\"\"\n",
    "    res = med7(text)\n",
    "    output = {ent.label_:ent.text for ent in res.ents if ent.label_ in ['STRENGTH', 'DRUG']}\n",
    "    return output"
   ]
  },
  {
   "cell_type": "code",
   "execution_count": 54,
   "metadata": {},
   "outputs": [
    {
     "data": {
      "text/html": [
       "<div>\n",
       "<style scoped>\n",
       "    .dataframe tbody tr th:only-of-type {\n",
       "        vertical-align: middle;\n",
       "    }\n",
       "\n",
       "    .dataframe tbody tr th {\n",
       "        vertical-align: top;\n",
       "    }\n",
       "\n",
       "    .dataframe thead th {\n",
       "        text-align: right;\n",
       "    }\n",
       "</style>\n",
       "<table border=\"1\" class=\"dataframe\">\n",
       "  <thead>\n",
       "    <tr style=\"text-align: right;\">\n",
       "      <th></th>\n",
       "      <th>Label</th>\n",
       "      <th>Text</th>\n",
       "      <th>output</th>\n",
       "      <th>drug</th>\n",
       "      <th>strength</th>\n",
       "      <th>prediction</th>\n",
       "      <th>result</th>\n",
       "    </tr>\n",
       "  </thead>\n",
       "  <tbody>\n",
       "    <tr>\n",
       "      <th>0</th>\n",
       "      <td>Metformin 500mg</td>\n",
       "      <td>Patient is advised to take Metformin 500mg onc...</td>\n",
       "      <td>{'DRUG': 'Metformin', 'STRENGTH': '500mg'}</td>\n",
       "      <td>Metformin</td>\n",
       "      <td>500mg</td>\n",
       "      <td>Metformin 500mg</td>\n",
       "      <td>True</td>\n",
       "    </tr>\n",
       "    <tr>\n",
       "      <th>1</th>\n",
       "      <td>Lisinopril 10mg</td>\n",
       "      <td>Lisinopril 10mg prescribed for hypertension; p...</td>\n",
       "      <td>{'DRUG': 'Lisinopril', 'STRENGTH': '10mg'}</td>\n",
       "      <td>Lisinopril</td>\n",
       "      <td>10mg</td>\n",
       "      <td>Lisinopril 10mg</td>\n",
       "      <td>True</td>\n",
       "    </tr>\n",
       "    <tr>\n",
       "      <th>2</th>\n",
       "      <td>Amoxicillin 250mg</td>\n",
       "      <td>Prescribed Amoxicillin 250mg three times a day...</td>\n",
       "      <td>{'DRUG': 'Amoxicillin', 'STRENGTH': '250mg'}</td>\n",
       "      <td>Amoxicillin</td>\n",
       "      <td>250mg</td>\n",
       "      <td>Amoxicillin 250mg</td>\n",
       "      <td>True</td>\n",
       "    </tr>\n",
       "    <tr>\n",
       "      <th>3</th>\n",
       "      <td>Atorvastatin 20mg</td>\n",
       "      <td>Atorvastatin 20mg recommended for cholesterol ...</td>\n",
       "      <td>{'DRUG': 'Atorvastatin', 'STRENGTH': '20mg'}</td>\n",
       "      <td>Atorvastatin</td>\n",
       "      <td>20mg</td>\n",
       "      <td>Atorvastatin 20mg</td>\n",
       "      <td>True</td>\n",
       "    </tr>\n",
       "    <tr>\n",
       "      <th>4</th>\n",
       "      <td>Albuterol 90mcg</td>\n",
       "      <td>Albuterol 90mcg inhaler, use as needed for ast...</td>\n",
       "      <td>{'DRUG': 'Albuterol', 'STRENGTH': '90mcg'}</td>\n",
       "      <td>Albuterol</td>\n",
       "      <td>90mcg</td>\n",
       "      <td>Albuterol 90mcg</td>\n",
       "      <td>True</td>\n",
       "    </tr>\n",
       "  </tbody>\n",
       "</table>\n",
       "</div>"
      ],
      "text/plain": [
       "               Label                                               Text  \\\n",
       "0    Metformin 500mg  Patient is advised to take Metformin 500mg onc...   \n",
       "1    Lisinopril 10mg  Lisinopril 10mg prescribed for hypertension; p...   \n",
       "2  Amoxicillin 250mg  Prescribed Amoxicillin 250mg three times a day...   \n",
       "3  Atorvastatin 20mg  Atorvastatin 20mg recommended for cholesterol ...   \n",
       "4    Albuterol 90mcg  Albuterol 90mcg inhaler, use as needed for ast...   \n",
       "\n",
       "                                         output          drug strength  \\\n",
       "0    {'DRUG': 'Metformin', 'STRENGTH': '500mg'}     Metformin    500mg   \n",
       "1    {'DRUG': 'Lisinopril', 'STRENGTH': '10mg'}    Lisinopril     10mg   \n",
       "2  {'DRUG': 'Amoxicillin', 'STRENGTH': '250mg'}   Amoxicillin    250mg   \n",
       "3  {'DRUG': 'Atorvastatin', 'STRENGTH': '20mg'}  Atorvastatin     20mg   \n",
       "4    {'DRUG': 'Albuterol', 'STRENGTH': '90mcg'}     Albuterol    90mcg   \n",
       "\n",
       "          prediction  result  \n",
       "0    Metformin 500mg    True  \n",
       "1    Lisinopril 10mg    True  \n",
       "2  Amoxicillin 250mg    True  \n",
       "3  Atorvastatin 20mg    True  \n",
       "4    Albuterol 90mcg    True  "
      ]
     },
     "execution_count": 54,
     "metadata": {},
     "output_type": "execute_result"
    }
   ],
   "source": [
    "df_tidy = (df \n",
    "  .assign(output = lambda x: x['Text'].apply(lambda y: extract_drug_dose(y)),\n",
    "          drug = lambda x: x['output'].apply(lambda y: y.get('DRUG')),\n",
    "          strength = lambda x: x['output'].apply(lambda y: y.get('STRENGTH')),\n",
    "          prediction = lambda x: x['drug'] + ' ' +x['strength'],\n",
    "          result = lambda x: x['Label'] == x['prediction']\n",
    "  )\n",
    " )\n",
    "\n",
    "df_tidy.head()\n"
   ]
  },
  {
   "cell_type": "code",
   "execution_count": 58,
   "metadata": {},
   "outputs": [
    {
     "name": "stdout",
     "output_type": "stream",
     "text": [
      "Accuracy = 0.95\n"
     ]
    }
   ],
   "source": [
    "print(f\"Accuracy = {df_tidy['result'].mean()}\")"
   ]
  }
 ],
 "metadata": {
  "kernelspec": {
   "display_name": "Python 3",
   "language": "python",
   "name": "python3"
  },
  "language_info": {
   "codemirror_mode": {
    "name": "ipython",
    "version": 3
   },
   "file_extension": ".py",
   "mimetype": "text/x-python",
   "name": "python",
   "nbconvert_exporter": "python",
   "pygments_lexer": "ipython3",
   "version": "3.10.4"
  }
 },
 "nbformat": 4,
 "nbformat_minor": 2
}
